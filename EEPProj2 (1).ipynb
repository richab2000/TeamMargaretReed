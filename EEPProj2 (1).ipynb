{
 "cells": [
  {
   "cell_type": "code",
   "execution_count": null,
   "id": "fc974c06",
   "metadata": {},
   "outputs": [],
   "source": [
    "!pip install -r requirements.txt"
   ]
  },
  {
   "cell_type": "code",
   "execution_count": null,
   "id": "e6a47bfa",
   "metadata": {},
   "outputs": [],
   "source": [
    "import pandas as pd\n",
    "import numpy as np\n",
    "import http.client\n",
    "import requests\n",
    "import pandas as pd\n",
    "import json\n",
    "import pprint\n",
    "import seaborn as sns\n",
    "import matplotlib.pyplot as plt"
   ]
  },
  {
   "cell_type": "code",
   "execution_count": null,
   "id": "87cfde9c",
   "metadata": {},
   "outputs": [],
   "source": [
    "diet_req = pd.read_csv(\"dietary_req.csv\").drop(['Source'],axis=1)\n",
    "#Dividing by 3 to reflect meal\n",
    "diet_req = diet_req.set_index('Nutrition')\n",
    "dietreq_meal=diet_req.div(3)\n",
    "dietreq_meal.iloc[len(dietreq_meal)-1,:] = dietreq_meal.iloc[len(dietreq_meal)-1,:] * -1"
   ]
  },
  {
   "cell_type": "code",
   "execution_count": null,
   "id": "dbf9122d",
   "metadata": {},
   "outputs": [],
   "source": [
    "#Deliverable A: Creating Population Diet Requirement Function\n",
    "groups = ['M 19-30','F 19-30']\n",
    "def create_pop(group,activity):\n",
    "    pop_req = dietreq_meal[group]\n",
    "    if activity:\n",
    "        pop_req.loc[0,group]= pop_req.iloc[0,1:3] + 300\n",
    "    return pop_req\n",
    "group = create_pop(groups, True).drop(0,axis=0)\n",
    "group"
   ]
  },
  {
   "cell_type": "code",
   "execution_count": null,
   "id": "28ef9ccc",
   "metadata": {},
   "outputs": [],
   "source": [
    "price_nutrition = pd.read_csv('PriceData.csv')\n",
    "price_nutrition=price_nutrition.set_index(\"Ingredients\").drop(['Meal Name','Size','ID','fdcId','Brand'],axis=1)\n",
    "price_nutrition[0:4]"
   ]
  },
  {
   "cell_type": "code",
   "execution_count": null,
   "id": "4917cf61",
   "metadata": {},
   "outputs": [],
   "source": [
    "from  scipy.optimize import linprog as lp\n",
    "import warnings\n",
    "\n",
    "def solve_subsistence_problem2(FoodNutrients,Prices,diet_min,max_weight=None,tol=1e-6):\n",
    "    p = Prices.dropna()\n",
    "\n",
    "    # Compile list that we have both prices and nutritional info for; drop if either missing\n",
    "    use = list(set(p.index.tolist()).intersection(FoodNutrients.columns.tolist()))\n",
    "    p = p[use]\n",
    "    Aall = FoodNutrients[p.index].fillna(0)\n",
    "    Amin = Aall.loc[diet_min.index]\n",
    "    A = Amin\n",
    "    b=diet_min\n",
    "\n",
    "    if max_weight is not None:\n",
    "        A.loc['Hectograms'] = -1\n",
    "        b.loc['Hectograms'] = -max_weight\n",
    "   \n",
    "    result = lp(p, -A, -b, method='interior-point')\n",
    "\n",
    "    result.A = A\n",
    "    result.b = b\n",
    "    \n",
    "    if result.success:\n",
    "        result.diet = pd.Series(result.x,index=p.index)\n",
    "    else: # No feasible solution?\n",
    "        result.diet = pd.Series(result.x,index=p.index)*np.nan  \n",
    "\n",
    "    return result\n",
    "result = solve_subsistence_problem2(price_nutrition.T,Prices,group['M 19-30'])\n",
    "result"
   ]
  },
  {
   "cell_type": "code",
   "execution_count": null,
   "id": "7127da0f",
   "metadata": {},
   "outputs": [],
   "source": [
    "from  scipy.optimize import linprog as lp\n",
    "import numpy as np\n",
    "\n",
    "def solve_subsistence_problem(FoodNutrients,Prices,diet_min,diet_max,max_weight=None,tol=1e-6):\n",
    "    \"\"\"Solve Stigler's Subsistence Cost Problem.\n",
    "\n",
    "    Inputs:\n",
    "       - FoodNutrients : A pd.DataFrame with rows corresponding to foods, columns to nutrients.\n",
    "       - Prices : A pd.Series of prices for different foods\n",
    "       - diet_min : A pd.Series of DRIs, with index corresponding to columns of FoodNutrients,\n",
    "                    describing minimum intakes.\n",
    "       - diet_max : A pd.Series of DRIs, with index corresponding to columns of FoodNutrients,\n",
    "                    describing maximum intakes.\n",
    "       - max_weight : Maximum weight (in hectograms) allowed for diet.\n",
    "       - tol : Solution values smaller than this in absolute value treated as zeros.\n",
    "       \n",
    "    \"\"\"\n",
    "    p = Prices.apply(lambda x:x.magnitude).dropna()\n",
    "\n",
    "    # Compile list that we have both prices and nutritional info for; drop if either missing\n",
    "    use = list(set(p.index.tolist()).intersection(FoodNutrients.columns.tolist()))\n",
    "    p = p[use]\n",
    "\n",
    "    # Drop nutritional information for foods we don't know the price of,\n",
    "    # and replace missing nutrients with zeros.\n",
    "    Aall = FoodNutrients[p.index].fillna(0)\n",
    "\n",
    "    # Drop rows of A that we don't have constraints for.\n",
    "    Amin = Aall.loc[diet_min.index]\n",
    "\n",
    "    Amax = Aall.loc[diet_max.index]\n",
    "\n",
    "    # Minimum requirements involve multiplying constraint by -1 to make <=.\n",
    "    A = pd.concat([Amin,-Amax])\n",
    "\n",
    "    b = pd.concat([diet_min,-diet_max]) # Note sign change for max constraints\n",
    "\n",
    "    if max_weight is not None:\n",
    "        # Add up weights of foods consumed\n",
    "        A.loc['Hectograms'] = -1\n",
    "        b.loc['Hectograms'] = -max_weight\n",
    "        \n",
    "    # Now solve problem!  (Note that the linear program solver we'll use assumes\n",
    "    # \"less-than-or-equal\" constraints.  We can switch back and forth by\n",
    "    # multiplying $A$ and $b$ by $-1$.)\n",
    "\n",
    "    result = lp(p, -A, -b, method='interior-point')\n",
    "\n",
    "    result.A = A\n",
    "    result.b = b\n",
    "    \n",
    "    if result.success:\n",
    "        result.diet = pd.Series(result.x,index=p.index)\n",
    "    else: # No feasible solution?\n",
    "        result.diet = pd.Series(result.x,index=p.index)*np.nan  \n",
    "\n",
    "    return result\n",
    "result = solve_subsistence_problem(price_nutrition.T,Prices,group['M 19-30'])"
   ]
  },
  {
   "cell_type": "code",
   "execution_count": null,
   "id": "ecd2b1de",
   "metadata": {},
   "outputs": [],
   "source": [
    "Prices = price_nutrition['Price'].astype(float)"
   ]
  },
  {
   "cell_type": "code",
   "execution_count": null,
   "id": "66409efb",
   "metadata": {},
   "outputs": [],
   "source": []
  }
 ],
 "metadata": {
  "kernelspec": {
   "display_name": "Python 3 (ipykernel)",
   "language": "python",
   "name": "python3"
  },
  "language_info": {
   "codemirror_mode": {
    "name": "ipython",
    "version": 3
   },
   "file_extension": ".py",
   "mimetype": "text/x-python",
   "name": "python",
   "nbconvert_exporter": "python",
   "pygments_lexer": "ipython3",
   "version": "3.9.10"
  }
 },
 "nbformat": 4,
 "nbformat_minor": 5
}
