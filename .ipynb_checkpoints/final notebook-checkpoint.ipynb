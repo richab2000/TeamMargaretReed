{
 "cells": [
  {
   "cell_type": "markdown",
   "id": "5a84dda6",
   "metadata": {},
   "source": [
    "# Analyzing Healthy UC Berkeley Dining Hall Meals in Comparison to the Mediterranean Diet"
   ]
  },
  {
   "cell_type": "markdown",
   "id": "a8453bb9",
   "metadata": {},
   "source": [
    "Contributors: Contributors: Richa Bhattacharya, Audrey Booher, Anoushka Gupta, Daysha Patalot, Yinan Xia\n"
   ]
  },
  {
   "cell_type": "markdown",
   "id": "9f7ed132",
   "metadata": {},
   "source": [
    "### <u> Goal of this study </u> ###"
   ]
  },
  {
   "cell_type": "markdown",
   "id": "f1da93db",
   "metadata": {},
   "source": [
    "<b> [A] Description of Population of Interest: <b> \n",
    "    \n",
    "Our population of interest is the UC Berkeley undergraduate student population. Freshmen, who live on campus, are designated a mandatory meal plan, while other undergraduate students may opt in to a meal plan, dine at campus restaurants, or cook for themselves at home. The question our study addresses is, as a UC Berkeley student, should one buy a meal plan or cook for oneself and abide by the Mediterranean diet if one wishes to maintain a subsistence diet at the lowest cost. "
   ]
  },
  {
   "cell_type": "markdown",
   "id": "8b4527d2",
   "metadata": {},
   "source": [
    "### <u> Context </u>"
   ]
  },
  {
   "cell_type": "markdown",
   "id": "4839b370",
   "metadata": {},
   "source": [
    "<i> What is the Mediterranean Diet </i>"
   ]
  },
  {
   "cell_type": "markdown",
   "id": "6afacf7b",
   "metadata": {},
   "source": [
    "The Mediterranean diet is based on the traditional diet of the Mediterranean region, including Spain, Italy, and Greece. These regions have exceptionally low rates of chronic diseases and are rather healthy, and so the Mediterranean diet has been studied for its benefits. This diet is believed to support brain function, promote heart health, regulate blood sugar levels,  lower blood pressure, etc. The diet recommends eating nutritious fruits, vegetables, nuts, legumes, whole grains, seafood, and potatoes, etc, while moderating the intake of eggs, cheese, poultry and yogurt, and rarely consuming red meat, processed foods, foods with added sugars, and foods with trans fats (“Mediterranean Diet 101”. According to “Mediterranean Diet: Ranked #1,...” by health.us.news, the Mediterranean diet is ranked #1 Best Diet Overall, #1 Best Diabetes Diet, #1 Best Weight-Loss Diets, #1 Best Diets for Healthy Eating, and #1 in Easiest Diets to Follow. One downside to the Mediterranean Diet is that it is less cost-friendly than other diets. This issue is especially relevant to our topic of interest: minimum cost diet. "
   ]
  },
  {
   "cell_type": "markdown",
   "id": "bd56bc40",
   "metadata": {},
   "source": [
    "<i> Cal Dining and Bear Fit  </i>"
   ]
  },
  {
   "cell_type": "markdown",
   "id": "21a369a7",
   "metadata": {},
   "source": [
    "Cal Dining is a part of Housing and Dining Operations, Residential and Student Service Programs (RSSP) here at the University of California, Berkeley. There are multiple meal plans for students living both on and off campus. For students, these plans are valid for the full academic year. Meal plans include a combination of meal swipes and flex dollars. Meal swipes are for use in the dining commons or as a “meal equivalency” swipe at various cafes on campus. Flex dollars may be used at campus restaurants, convenience stores, concession stands, and to pay for guest meals.\n",
    "Flex dollars function like cash dollars—1 flex dollar has the purchasing power of 1 dollar. For example, a purchase of $5 would cost 5 flex dollars. \n",
    "\n",
    "Our csv and code utilize data provided from the Cal Dining website. We chose four “Bear Fit” meals from the Crossroads Dining Hall, which are considered to be the healthiest options. Bear Fit meals is designed to serve nutritious and delicious food that everyone can enjoy without worrying about common allergic or triggering ingredients with a menu free of the Big-8 food allergens: sesame, gluten, pork, and alcohol. From these particular meals, we noted various nutritional facts in the ingredients used such as energy, protein, iron, and more, compared to those in the Mediterranean diet.\n",
    "\n",
    "This information about Cal Dining  is relevant to our project as we consider and compare the various options that students have when choosing how they will eat for the academic year, particularly if the student wishes to maintain a healthy diet at the lowest financial cost.\n"
   ]
  },
  {
   "cell_type": "markdown",
   "id": "5dd8465e",
   "metadata": {},
   "source": [
    "### <u> Coding Deliverables </u>"
   ]
  },
  {
   "cell_type": "markdown",
   "id": "4332d020",
   "metadata": {},
   "source": [
    "Setting up the environment:"
   ]
  },
  {
   "cell_type": "code",
   "execution_count": 1,
   "id": "9f719afc",
   "metadata": {},
   "outputs": [
    {
     "name": "stdout",
     "output_type": "stream",
     "text": [
      "Requirement already satisfied: numpy>=1.20.3 in /opt/conda/lib/python3.9/site-packages (from -r requirements.txt (line 4)) (1.21.5)\n",
      "Requirement already satisfied: pandas>=1.2.5 in /opt/conda/lib/python3.9/site-packages (from -r requirements.txt (line 7)) (1.3.5)\n",
      "Collecting pint>=0.18\n",
      "  Using cached Pint-0.18-py2.py3-none-any.whl (209 kB)\n",
      "Requirement already satisfied: requests>=2.26.0 in /opt/conda/lib/python3.9/site-packages (from -r requirements.txt (line 13)) (2.26.0)\n",
      "Collecting eep153_tools\n",
      "  Using cached eep153_tools-0.11-py2.py3-none-any.whl (4.4 kB)\n",
      "Processing /home/jovyan/.cache/pip/wheels/20/7e/30/7d702acd6a1e89911301cd9dbf9cb9870ca80c0e64bc2cde23/gnupg-2.3.1-py3-none-any.whl\n",
      "Requirement already satisfied: python-dateutil>=2.7.3 in /opt/conda/lib/python3.9/site-packages (from pandas>=1.2.5->-r requirements.txt (line 7)) (2.8.0)\n",
      "Requirement already satisfied: pytz>=2017.3 in /opt/conda/lib/python3.9/site-packages (from pandas>=1.2.5->-r requirements.txt (line 7)) (2021.1)\n",
      "Requirement already satisfied: packaging in /opt/conda/lib/python3.9/site-packages (from pint>=0.18->-r requirements.txt (line 10)) (21.3)\n",
      "Requirement already satisfied: charset-normalizer~=2.0.0; python_version >= \"3\" in /opt/conda/lib/python3.9/site-packages (from requests>=2.26.0->-r requirements.txt (line 13)) (2.0.0)\n",
      "Requirement already satisfied: idna<4,>=2.5; python_version >= \"3\" in /opt/conda/lib/python3.9/site-packages (from requests>=2.26.0->-r requirements.txt (line 13)) (2.8)\n",
      "Requirement already satisfied: urllib3<1.27,>=1.21.1 in /opt/conda/lib/python3.9/site-packages (from requests>=2.26.0->-r requirements.txt (line 13)) (1.25.7)\n",
      "Requirement already satisfied: certifi>=2017.4.17 in /opt/conda/lib/python3.9/site-packages (from requests>=2.26.0->-r requirements.txt (line 13)) (2019.11.28)\n",
      "Requirement already satisfied: psutil>=1.2.1 in /opt/conda/lib/python3.9/site-packages (from gnupg->-r requirements.txt (line 17)) (5.9.0)\n",
      "Requirement already satisfied: six>=1.5 in /opt/conda/lib/python3.9/site-packages (from python-dateutil>=2.7.3->pandas>=1.2.5->-r requirements.txt (line 7)) (1.16.0)\n",
      "Requirement already satisfied: pyparsing!=3.0.5,>=2.0.2 in /opt/conda/lib/python3.9/site-packages (from packaging->pint>=0.18->-r requirements.txt (line 10)) (3.0.7)\n",
      "Installing collected packages: pint, eep153-tools, gnupg\n",
      "  Attempting uninstall: pint\n",
      "    Found existing installation: Pint 0.17\n",
      "    Uninstalling Pint-0.17:\n",
      "      Successfully uninstalled Pint-0.17\n",
      "Successfully installed eep153-tools-0.11 gnupg-2.3.1 pint-0.18\n"
     ]
    }
   ],
   "source": [
    "!pip install -r requirements.txt"
   ]
  },
  {
   "cell_type": "code",
   "execution_count": 6,
   "id": "5ae24420",
   "metadata": {},
   "outputs": [],
   "source": [
    "import numpy as np\n",
    "import pandas as pd\n",
    "import http.client\n",
    "import fooddatacentral as fdc"
   ]
  },
  {
   "cell_type": "code",
   "execution_count": 7,
   "id": "5d340792",
   "metadata": {},
   "outputs": [],
   "source": [
    "apikey = \"an9JzugedN7gb0EvKlgsVs2iMVLIFVYOLcpdqUqo\"  # Replace with a real key!  \"DEMO_KEY\" will be slow..."
   ]
  },
  {
   "cell_type": "markdown",
   "id": "00746109",
   "metadata": {},
   "source": [
    "#### [A] Dietary Reference Intakes"
   ]
  },
  {
   "cell_type": "markdown",
   "id": "8d43444d",
   "metadata": {},
   "source": [
    "We divided the total daily intake by 3 for all desired values under the assumption that there are about 3 meals per day that thee average male and female have. We also assume that the quantity of food, and hence the nutritional value of each meal, is roughly the same. This is useful because we can directly match up our nutritional requirements for one meal to our minimal cost diet, which also reflects one meal. "
   ]
  },
  {
   "cell_type": "code",
   "execution_count": 10,
   "id": "f49782a2",
   "metadata": {},
   "outputs": [],
   "source": [
    "diet_req = pd.read_csv(\"dietary_req.csv\").drop(['Source'],axis=1)\n",
    "diet_req = diet_req.set_index('Nutrition')\n",
    "dietreq_meal=diet_req.div(3)\n",
    "dietreq_meal.iloc[len(dietreq_meal)-1,:] = dietreq_meal.iloc[len(dietreq_meal)-1,:] * -1"
   ]
  },
  {
   "cell_type": "code",
   "execution_count": 11,
   "id": "b6585962",
   "metadata": {},
   "outputs": [
    {
     "name": "stderr",
     "output_type": "stream",
     "text": [
      "/tmp/ipykernel_128/313555015.py:5: SettingWithCopyWarning: \n",
      "A value is trying to be set on a copy of a slice from a DataFrame\n",
      "\n",
      "See the caveats in the documentation: https://pandas.pydata.org/pandas-docs/stable/user_guide/indexing.html#returning-a-view-versus-a-copy\n",
      "  pop_req.loc[0,group]= pop_req.iloc[0,1:3] + 300\n"
     ]
    },
    {
     "data": {
      "text/html": [
       "<div>\n",
       "<style scoped>\n",
       "    .dataframe tbody tr th:only-of-type {\n",
       "        vertical-align: middle;\n",
       "    }\n",
       "\n",
       "    .dataframe tbody tr th {\n",
       "        vertical-align: top;\n",
       "    }\n",
       "\n",
       "    .dataframe thead th {\n",
       "        text-align: right;\n",
       "    }\n",
       "</style>\n",
       "<table border=\"1\" class=\"dataframe\">\n",
       "  <thead>\n",
       "    <tr style=\"text-align: right;\">\n",
       "      <th></th>\n",
       "      <th>M 19-30</th>\n",
       "      <th>F 19-30</th>\n",
       "    </tr>\n",
       "    <tr>\n",
       "      <th>Nutrition</th>\n",
       "      <th></th>\n",
       "      <th></th>\n",
       "    </tr>\n",
       "  </thead>\n",
       "  <tbody>\n",
       "    <tr>\n",
       "      <th>Energy</th>\n",
       "      <td>800.000000</td>\n",
       "      <td>666.666667</td>\n",
       "    </tr>\n",
       "    <tr>\n",
       "      <th>Protein</th>\n",
       "      <td>18.666667</td>\n",
       "      <td>15.333333</td>\n",
       "    </tr>\n",
       "    <tr>\n",
       "      <th>Fiber, total dietary</th>\n",
       "      <td>11.200000</td>\n",
       "      <td>9.333333</td>\n",
       "    </tr>\n",
       "    <tr>\n",
       "      <th>Folate, DFE</th>\n",
       "      <td>133.333333</td>\n",
       "      <td>133.333333</td>\n",
       "    </tr>\n",
       "    <tr>\n",
       "      <th>Calcium, Ca</th>\n",
       "      <td>333.333333</td>\n",
       "      <td>333.333333</td>\n",
       "    </tr>\n",
       "    <tr>\n",
       "      <th>Carbohydrate, by difference</th>\n",
       "      <td>43.333333</td>\n",
       "      <td>43.333333</td>\n",
       "    </tr>\n",
       "    <tr>\n",
       "      <th>Iron, Fe</th>\n",
       "      <td>2.666667</td>\n",
       "      <td>6.000000</td>\n",
       "    </tr>\n",
       "    <tr>\n",
       "      <th>Magnesium, Mg</th>\n",
       "      <td>133.333333</td>\n",
       "      <td>103.333333</td>\n",
       "    </tr>\n",
       "    <tr>\n",
       "      <th>Niacin</th>\n",
       "      <td>5.333333</td>\n",
       "      <td>4.666667</td>\n",
       "    </tr>\n",
       "    <tr>\n",
       "      <th>Phosphorus, P</th>\n",
       "      <td>233.333333</td>\n",
       "      <td>233.333333</td>\n",
       "    </tr>\n",
       "    <tr>\n",
       "      <th>Potassium, K</th>\n",
       "      <td>1566.666667</td>\n",
       "      <td>1566.666667</td>\n",
       "    </tr>\n",
       "    <tr>\n",
       "      <th>Riboflavin</th>\n",
       "      <td>0.433333</td>\n",
       "      <td>0.366667</td>\n",
       "    </tr>\n",
       "    <tr>\n",
       "      <th>Thiamin</th>\n",
       "      <td>0.400000</td>\n",
       "      <td>0.366667</td>\n",
       "    </tr>\n",
       "    <tr>\n",
       "      <th>Vitamin A, RAE</th>\n",
       "      <td>300.000000</td>\n",
       "      <td>233.333333</td>\n",
       "    </tr>\n",
       "    <tr>\n",
       "      <th>Vitamin B-12</th>\n",
       "      <td>0.800000</td>\n",
       "      <td>0.800000</td>\n",
       "    </tr>\n",
       "    <tr>\n",
       "      <th>Vitamin B-6</th>\n",
       "      <td>0.433333</td>\n",
       "      <td>0.433333</td>\n",
       "    </tr>\n",
       "    <tr>\n",
       "      <th>Vitamin C, total ascorbic acid</th>\n",
       "      <td>30.000000</td>\n",
       "      <td>25.000000</td>\n",
       "    </tr>\n",
       "    <tr>\n",
       "      <th>Vitamin E (alpha-tocopherol)</th>\n",
       "      <td>5.000000</td>\n",
       "      <td>5.000000</td>\n",
       "    </tr>\n",
       "    <tr>\n",
       "      <th>Vitamin K (phylloquinone)</th>\n",
       "      <td>40.000000</td>\n",
       "      <td>30.000000</td>\n",
       "    </tr>\n",
       "    <tr>\n",
       "      <th>Zinc, Zn</th>\n",
       "      <td>3.666667</td>\n",
       "      <td>2.666667</td>\n",
       "    </tr>\n",
       "    <tr>\n",
       "      <th>Sodium, Na</th>\n",
       "      <td>-766.666667</td>\n",
       "      <td>-766.666667</td>\n",
       "    </tr>\n",
       "  </tbody>\n",
       "</table>\n",
       "</div>"
      ],
      "text/plain": [
       "                                    M 19-30      F 19-30\n",
       "Nutrition                                               \n",
       "Energy                           800.000000   666.666667\n",
       "Protein                           18.666667    15.333333\n",
       "Fiber, total dietary              11.200000     9.333333\n",
       "Folate, DFE                      133.333333   133.333333\n",
       "Calcium, Ca                      333.333333   333.333333\n",
       "Carbohydrate, by difference       43.333333    43.333333\n",
       "Iron, Fe                           2.666667     6.000000\n",
       "Magnesium, Mg                    133.333333   103.333333\n",
       "Niacin                             5.333333     4.666667\n",
       "Phosphorus, P                    233.333333   233.333333\n",
       "Potassium, K                    1566.666667  1566.666667\n",
       "Riboflavin                         0.433333     0.366667\n",
       "Thiamin                            0.400000     0.366667\n",
       "Vitamin A, RAE                   300.000000   233.333333\n",
       "Vitamin B-12                       0.800000     0.800000\n",
       "Vitamin B-6                        0.433333     0.433333\n",
       "Vitamin C, total ascorbic acid    30.000000    25.000000\n",
       "Vitamin E (alpha-tocopherol)       5.000000     5.000000\n",
       "Vitamin K (phylloquinone)         40.000000    30.000000\n",
       "Zinc, Zn                           3.666667     2.666667\n",
       "Sodium, Na                      -766.666667  -766.666667"
      ]
     },
     "execution_count": 11,
     "metadata": {},
     "output_type": "execute_result"
    }
   ],
   "source": [
    "groups = ['M 19-30','F 19-30']\n",
    "def create_pop(group,activity):\n",
    "    pop_req = dietreq_meal[group]\n",
    "    if activity:\n",
    "        pop_req.loc[0,group]= pop_req.iloc[0,1:3] + 300\n",
    "    return pop_req\n",
    "group = create_pop(groups, True).drop(0,axis=0)\n",
    "group"
   ]
  },
  {
   "cell_type": "markdown",
   "id": "c2bf32f1",
   "metadata": {},
   "source": [
    "#### [A] Nutritional Content of Different Foods"
   ]
  },
  {
   "cell_type": "code",
   "execution_count": 17,
   "id": "b9eaacc7",
   "metadata": {},
   "outputs": [
    {
     "data": {
      "text/html": [
       "<div>\n",
       "<style scoped>\n",
       "    .dataframe tbody tr th:only-of-type {\n",
       "        vertical-align: middle;\n",
       "    }\n",
       "\n",
       "    .dataframe tbody tr th {\n",
       "        vertical-align: top;\n",
       "    }\n",
       "\n",
       "    .dataframe thead th {\n",
       "        text-align: right;\n",
       "    }\n",
       "</style>\n",
       "<table border=\"1\" class=\"dataframe\">\n",
       "  <thead>\n",
       "    <tr style=\"text-align: right;\">\n",
       "      <th></th>\n",
       "      <th>Energy</th>\n",
       "      <th>Protein</th>\n",
       "      <th>Fiber, total dietary</th>\n",
       "      <th>Folate, DFE</th>\n",
       "      <th>Calcium, Ca</th>\n",
       "      <th>Carbohydrate, by difference</th>\n",
       "      <th>Iron, Fe</th>\n",
       "      <th>Magnesium, Mg</th>\n",
       "      <th>Niacin</th>\n",
       "      <th>Phosphorus, P</th>\n",
       "      <th>...</th>\n",
       "      <th>Thiamin</th>\n",
       "      <th>Vitamin A, RAE</th>\n",
       "      <th>Vitamin B-12</th>\n",
       "      <th>Vitamin B-6</th>\n",
       "      <th>Vitamin C, total ascorbic acid</th>\n",
       "      <th>Vitamin E (alpha-tocopherol)</th>\n",
       "      <th>Vitamin K (phylloquinone)</th>\n",
       "      <th>Zinc, Zn</th>\n",
       "      <th>Sodium, Na</th>\n",
       "      <th>Price</th>\n",
       "    </tr>\n",
       "    <tr>\n",
       "      <th>Ingredients</th>\n",
       "      <th></th>\n",
       "      <th></th>\n",
       "      <th></th>\n",
       "      <th></th>\n",
       "      <th></th>\n",
       "      <th></th>\n",
       "      <th></th>\n",
       "      <th></th>\n",
       "      <th></th>\n",
       "      <th></th>\n",
       "      <th></th>\n",
       "      <th></th>\n",
       "      <th></th>\n",
       "      <th></th>\n",
       "      <th></th>\n",
       "      <th></th>\n",
       "      <th></th>\n",
       "      <th></th>\n",
       "      <th></th>\n",
       "      <th></th>\n",
       "      <th></th>\n",
       "    </tr>\n",
       "  </thead>\n",
       "  <tbody>\n",
       "    <tr>\n",
       "      <th>Asparagus</th>\n",
       "      <td>18.0</td>\n",
       "      <td>2.35</td>\n",
       "      <td>2.4</td>\n",
       "      <td>52.0</td>\n",
       "      <td>24.0</td>\n",
       "      <td>3.53</td>\n",
       "      <td>2.12</td>\n",
       "      <td>14.0</td>\n",
       "      <td>0.98</td>\n",
       "      <td>52.0</td>\n",
       "      <td>...</td>\n",
       "      <td>0.143</td>\n",
       "      <td>38</td>\n",
       "      <td>0.0</td>\n",
       "      <td>0.091</td>\n",
       "      <td>5.9</td>\n",
       "      <td>1.13</td>\n",
       "      <td>41.6</td>\n",
       "      <td>0.54</td>\n",
       "      <td>2</td>\n",
       "      <td>1.88</td>\n",
       "    </tr>\n",
       "    <tr>\n",
       "      <th>Avacado Chunks</th>\n",
       "      <td>160.0</td>\n",
       "      <td>2.00</td>\n",
       "      <td>6.7</td>\n",
       "      <td>81.0</td>\n",
       "      <td>12.0</td>\n",
       "      <td>8.53</td>\n",
       "      <td>0.55</td>\n",
       "      <td>29.0</td>\n",
       "      <td>1.74</td>\n",
       "      <td>52.0</td>\n",
       "      <td>...</td>\n",
       "      <td>0.067</td>\n",
       "      <td>7</td>\n",
       "      <td>0.0</td>\n",
       "      <td>0.257</td>\n",
       "      <td>10.0</td>\n",
       "      <td>2.07</td>\n",
       "      <td>21.0</td>\n",
       "      <td>0.64</td>\n",
       "      <td>7</td>\n",
       "      <td>2.50</td>\n",
       "    </tr>\n",
       "    <tr>\n",
       "      <th>Flavored Brown Rice</th>\n",
       "      <td>106.0</td>\n",
       "      <td>2.76</td>\n",
       "      <td>1.2</td>\n",
       "      <td>10.0</td>\n",
       "      <td>7.0</td>\n",
       "      <td>19.30</td>\n",
       "      <td>0.39</td>\n",
       "      <td>37.0</td>\n",
       "      <td>1.68</td>\n",
       "      <td>89.0</td>\n",
       "      <td>...</td>\n",
       "      <td>0.071</td>\n",
       "      <td>16</td>\n",
       "      <td>0.0</td>\n",
       "      <td>0.106</td>\n",
       "      <td>0.0</td>\n",
       "      <td>0.35</td>\n",
       "      <td>2.4</td>\n",
       "      <td>0.99</td>\n",
       "      <td>293</td>\n",
       "      <td>6.00</td>\n",
       "    </tr>\n",
       "    <tr>\n",
       "      <th>Carrots</th>\n",
       "      <td>38.0</td>\n",
       "      <td>1.28</td>\n",
       "      <td>2.6</td>\n",
       "      <td>19.0</td>\n",
       "      <td>38.0</td>\n",
       "      <td>8.97</td>\n",
       "      <td>0.26</td>\n",
       "      <td>12.0</td>\n",
       "      <td>0.98</td>\n",
       "      <td>35.0</td>\n",
       "      <td>...</td>\n",
       "      <td>0.066</td>\n",
       "      <td>835</td>\n",
       "      <td>0.0</td>\n",
       "      <td>0.138</td>\n",
       "      <td>6.4</td>\n",
       "      <td>0.66</td>\n",
       "      <td>13.2</td>\n",
       "      <td>0.24</td>\n",
       "      <td>71</td>\n",
       "      <td>1.00</td>\n",
       "    </tr>\n",
       "  </tbody>\n",
       "</table>\n",
       "<p>4 rows × 22 columns</p>\n",
       "</div>"
      ],
      "text/plain": [
       "                     Energy  Protein  Fiber, total dietary  Folate, DFE  \\\n",
       "Ingredients                                                               \n",
       "Asparagus              18.0     2.35                   2.4         52.0   \n",
       "Avacado Chunks        160.0     2.00                   6.7         81.0   \n",
       "Flavored Brown Rice   106.0     2.76                   1.2         10.0   \n",
       "Carrots                38.0     1.28                   2.6         19.0   \n",
       "\n",
       "                     Calcium, Ca  Carbohydrate, by difference  Iron, Fe  \\\n",
       "Ingredients                                                               \n",
       "Asparagus                   24.0                         3.53      2.12   \n",
       "Avacado Chunks              12.0                         8.53      0.55   \n",
       "Flavored Brown Rice          7.0                        19.30      0.39   \n",
       "Carrots                     38.0                         8.97      0.26   \n",
       "\n",
       "                     Magnesium, Mg  Niacin  Phosphorus, P  ...  Thiamin  \\\n",
       "Ingredients                                                ...            \n",
       "Asparagus                     14.0    0.98           52.0  ...    0.143   \n",
       "Avacado Chunks                29.0    1.74           52.0  ...    0.067   \n",
       "Flavored Brown Rice           37.0    1.68           89.0  ...    0.071   \n",
       "Carrots                       12.0    0.98           35.0  ...    0.066   \n",
       "\n",
       "                     Vitamin A, RAE  Vitamin B-12  Vitamin B-6  \\\n",
       "Ingredients                                                      \n",
       "Asparagus                        38           0.0        0.091   \n",
       "Avacado Chunks                    7           0.0        0.257   \n",
       "Flavored Brown Rice              16           0.0        0.106   \n",
       "Carrots                         835           0.0        0.138   \n",
       "\n",
       "                     Vitamin C, total ascorbic acid  \\\n",
       "Ingredients                                           \n",
       "Asparagus                                       5.9   \n",
       "Avacado Chunks                                 10.0   \n",
       "Flavored Brown Rice                             0.0   \n",
       "Carrots                                         6.4   \n",
       "\n",
       "                     Vitamin E (alpha-tocopherol)  Vitamin K (phylloquinone)  \\\n",
       "Ingredients                                                                    \n",
       "Asparagus                                    1.13                       41.6   \n",
       "Avacado Chunks                               2.07                       21.0   \n",
       "Flavored Brown Rice                          0.35                        2.4   \n",
       "Carrots                                      0.66                       13.2   \n",
       "\n",
       "                     Zinc, Zn  Sodium, Na  Price  \n",
       "Ingredients                                       \n",
       "Asparagus                0.54           2   1.88  \n",
       "Avacado Chunks           0.64           7   2.50  \n",
       "Flavored Brown Rice      0.99         293   6.00  \n",
       "Carrots                  0.24          71   1.00  \n",
       "\n",
       "[4 rows x 22 columns]"
      ]
     },
     "execution_count": 17,
     "metadata": {},
     "output_type": "execute_result"
    }
   ],
   "source": [
    "price_nutrition = pd.read_csv('PriceData.csv')\n",
    "price_nutrition=price_nutrition.set_index(\"Ingredients\").drop(['Meal Name','Size','ID','fdcId','Brand'],axis=1)\n",
    "price_nutrition[0:4]"
   ]
  },
  {
   "cell_type": "markdown",
   "id": "29d784bf",
   "metadata": {},
   "source": [
    "#### [A] Data on Prices for Different Foods  "
   ]
  },
  {
   "cell_type": "code",
   "execution_count": 16,
   "id": "f5540078",
   "metadata": {},
   "outputs": [
    {
     "data": {
      "text/plain": [
       "Ingredients\n",
       "Asparagus                 1.88\n",
       "Avacado Chunks            2.50\n",
       "Flavored Brown Rice       6.00\n",
       "Carrots                   1.00\n",
       "Chicken                   8.00\n",
       "Chickpeas                 2.00\n",
       "Greek Yogurt              6.00\n",
       "Pear                      2.00\n",
       "White Potatoes            3.00\n",
       "Raspberries               7.00\n",
       "Salmon                   13.00\n",
       "Strawberries              5.00\n",
       "Unsalted Almonds         11.00\n",
       "Walnuts                   8.00\n",
       "White Beans               1.67\n",
       "Whole Wheat Pita          3.50\n",
       "Black Peas                3.00\n",
       "Black Rice               12.00\n",
       "Carrots                   1.00\n",
       "Cilantro                  1.30\n",
       "Jalapeno Peppers          1.00\n",
       "Lemon Juice               0.75\n",
       "Lime Juice                0.60\n",
       "Pepper Bell Red Whole     2.00\n",
       "Shiitake Mushroom         6.00\n",
       "Sugar                     4.30\n",
       "Vinegar                   4.00\n",
       "Black Pepper              3.50\n",
       "Halal Ground Beef        10.50\n",
       "Parsley                   1.00\n",
       "Salt                      1.50\n",
       "Halal Chicken             8.00\n",
       "Name: Price, dtype: float64"
      ]
     },
     "execution_count": 16,
     "metadata": {},
     "output_type": "execute_result"
    }
   ],
   "source": [
    "price_nutrition['Price']"
   ]
  },
  {
   "cell_type": "code",
   "execution_count": 13,
   "id": "47d9aade",
   "metadata": {},
   "outputs": [],
   "source": [
    "from  scipy.optimize import linprog as lp\n",
    "def solve_subsistence_problem(FoodNutrients,nutrients, prices):\n",
    "    A = price_nutrition[nutrients].apply(pd.to_numeric).T\n",
    "    b = dietreq_meal.iloc[0,:]\n",
    "    result = lp(prices, A, -b, method='interior-point')\n",
    "    result.A = A\n",
    "    result.b = b\n",
    "    \n",
    "    if result.success:\n",
    "        result.diet = pd.Series(result.x,index=p.index)\n",
    "    else: # No feasible solution?\n",
    "        result.diet = pd.Series(result.x,index=p.index)*np.nan  \n",
    "    return result"
   ]
  },
  {
   "cell_type": "code",
   "execution_count": 14,
   "id": "c18b35ba",
   "metadata": {},
   "outputs": [
    {
     "ename": "ValueError",
     "evalue": "Invalid input for linprog: b_ub must be a 1-D array; b_ub must not have more than one non-singleton dimension and the number of rows in A_ub must equal the number of values in b_ub",
     "output_type": "error",
     "traceback": [
      "\u001b[0;31m---------------------------------------------------------------------------\u001b[0m",
      "\u001b[0;31mValueError\u001b[0m                                Traceback (most recent call last)",
      "Input \u001b[0;32mIn [14]\u001b[0m, in \u001b[0;36m<module>\u001b[0;34m\u001b[0m\n\u001b[1;32m      1\u001b[0m Prices \u001b[38;5;241m=\u001b[39m price_nutrition[np\u001b[38;5;241m.\u001b[39mappend(group\u001b[38;5;241m.\u001b[39mindex,\u001b[38;5;124m'\u001b[39m\u001b[38;5;124mPrice\u001b[39m\u001b[38;5;124m'\u001b[39m)][\u001b[38;5;124m'\u001b[39m\u001b[38;5;124mPrice\u001b[39m\u001b[38;5;124m'\u001b[39m]\u001b[38;5;241m.\u001b[39mto_list()\n\u001b[1;32m      2\u001b[0m Prices \u001b[38;5;241m=\u001b[39m [\u001b[38;5;28mfloat\u001b[39m(s) \u001b[38;5;28;01mfor\u001b[39;00m s \u001b[38;5;129;01min\u001b[39;00m Prices] \n\u001b[0;32m----> 3\u001b[0m result \u001b[38;5;241m=\u001b[39m \u001b[43msolve_subsistence_problem\u001b[49m\u001b[43m(\u001b[49m\u001b[43mprice_nutrition\u001b[49m\u001b[43m,\u001b[49m\u001b[43mgroup\u001b[49m\u001b[38;5;241;43m.\u001b[39;49m\u001b[43mindex\u001b[49m\u001b[43m,\u001b[49m\u001b[43m \u001b[49m\u001b[43mPrices\u001b[49m\u001b[43m)\u001b[49m\n",
      "Input \u001b[0;32mIn [13]\u001b[0m, in \u001b[0;36msolve_subsistence_problem\u001b[0;34m(FoodNutrients, nutrients, prices)\u001b[0m\n\u001b[1;32m      3\u001b[0m A \u001b[38;5;241m=\u001b[39m price_nutrition[nutrients]\u001b[38;5;241m.\u001b[39mapply(pd\u001b[38;5;241m.\u001b[39mto_numeric)\u001b[38;5;241m.\u001b[39mT\n\u001b[1;32m      4\u001b[0m b \u001b[38;5;241m=\u001b[39m dietreq_meal\u001b[38;5;241m.\u001b[39miloc[\u001b[38;5;241m0\u001b[39m,:]\n\u001b[0;32m----> 5\u001b[0m result \u001b[38;5;241m=\u001b[39m \u001b[43mlp\u001b[49m\u001b[43m(\u001b[49m\u001b[43mprices\u001b[49m\u001b[43m,\u001b[49m\u001b[43m \u001b[49m\u001b[43mA\u001b[49m\u001b[43m,\u001b[49m\u001b[43m \u001b[49m\u001b[38;5;241;43m-\u001b[39;49m\u001b[43mb\u001b[49m\u001b[43m,\u001b[49m\u001b[43m \u001b[49m\u001b[43mmethod\u001b[49m\u001b[38;5;241;43m=\u001b[39;49m\u001b[38;5;124;43m'\u001b[39;49m\u001b[38;5;124;43minterior-point\u001b[39;49m\u001b[38;5;124;43m'\u001b[39;49m\u001b[43m)\u001b[49m\n\u001b[1;32m      6\u001b[0m result\u001b[38;5;241m.\u001b[39mA \u001b[38;5;241m=\u001b[39m A\n\u001b[1;32m      7\u001b[0m result\u001b[38;5;241m.\u001b[39mb \u001b[38;5;241m=\u001b[39m b\n",
      "File \u001b[0;32m/opt/conda/lib/python3.9/site-packages/scipy/optimize/_linprog.py:592\u001b[0m, in \u001b[0;36mlinprog\u001b[0;34m(c, A_ub, b_ub, A_eq, b_eq, bounds, method, callback, options, x0)\u001b[0m\n\u001b[1;32m    589\u001b[0m     warn(warning_message, OptimizeWarning)\n\u001b[1;32m    591\u001b[0m lp \u001b[38;5;241m=\u001b[39m _LPProblem(c, A_ub, b_ub, A_eq, b_eq, bounds, x0)\n\u001b[0;32m--> 592\u001b[0m lp, solver_options \u001b[38;5;241m=\u001b[39m \u001b[43m_parse_linprog\u001b[49m\u001b[43m(\u001b[49m\u001b[43mlp\u001b[49m\u001b[43m,\u001b[49m\u001b[43m \u001b[49m\u001b[43moptions\u001b[49m\u001b[43m,\u001b[49m\u001b[43m \u001b[49m\u001b[43mmeth\u001b[49m\u001b[43m)\u001b[49m\n\u001b[1;32m    593\u001b[0m tol \u001b[38;5;241m=\u001b[39m solver_options\u001b[38;5;241m.\u001b[39mget(\u001b[38;5;124m'\u001b[39m\u001b[38;5;124mtol\u001b[39m\u001b[38;5;124m'\u001b[39m, \u001b[38;5;241m1e-9\u001b[39m)\n\u001b[1;32m    595\u001b[0m \u001b[38;5;66;03m# Give unmodified problem to HiGHS\u001b[39;00m\n",
      "File \u001b[0;32m/opt/conda/lib/python3.9/site-packages/scipy/optimize/_linprog_util.py:1003\u001b[0m, in \u001b[0;36m_parse_linprog\u001b[0;34m(lp, options, meth)\u001b[0m\n\u001b[1;32m   1000\u001b[0m solver_options, A_ub, A_eq \u001b[38;5;241m=\u001b[39m _check_sparse_inputs(solver_options, meth,\n\u001b[1;32m   1001\u001b[0m                                                   lp\u001b[38;5;241m.\u001b[39mA_ub, lp\u001b[38;5;241m.\u001b[39mA_eq)\n\u001b[1;32m   1002\u001b[0m \u001b[38;5;66;03m# Convert lists to numpy arrays, etc...\u001b[39;00m\n\u001b[0;32m-> 1003\u001b[0m lp \u001b[38;5;241m=\u001b[39m \u001b[43m_clean_inputs\u001b[49m\u001b[43m(\u001b[49m\u001b[43mlp\u001b[49m\u001b[38;5;241;43m.\u001b[39;49m\u001b[43m_replace\u001b[49m\u001b[43m(\u001b[49m\u001b[43mA_ub\u001b[49m\u001b[38;5;241;43m=\u001b[39;49m\u001b[43mA_ub\u001b[49m\u001b[43m,\u001b[49m\u001b[43m \u001b[49m\u001b[43mA_eq\u001b[49m\u001b[38;5;241;43m=\u001b[39;49m\u001b[43mA_eq\u001b[49m\u001b[43m)\u001b[49m\u001b[43m)\u001b[49m\n\u001b[1;32m   1004\u001b[0m \u001b[38;5;28;01mreturn\u001b[39;00m lp, solver_options\n",
      "File \u001b[0;32m/opt/conda/lib/python3.9/site-packages/scipy/optimize/_linprog_util.py:316\u001b[0m, in \u001b[0;36m_clean_inputs\u001b[0;34m(lp)\u001b[0m\n\u001b[1;32m    314\u001b[0m \u001b[38;5;28;01melse\u001b[39;00m:\n\u001b[1;32m    315\u001b[0m     \u001b[38;5;28;01mif\u001b[39;00m b_ub\u001b[38;5;241m.\u001b[39mshape \u001b[38;5;241m!=\u001b[39m (n_ub,):\n\u001b[0;32m--> 316\u001b[0m         \u001b[38;5;28;01mraise\u001b[39;00m \u001b[38;5;167;01mValueError\u001b[39;00m(\n\u001b[1;32m    317\u001b[0m             \u001b[38;5;124m\"\u001b[39m\u001b[38;5;124mInvalid input for linprog: b_ub must be a 1-D array; b_ub \u001b[39m\u001b[38;5;124m\"\u001b[39m\n\u001b[1;32m    318\u001b[0m             \u001b[38;5;124m\"\u001b[39m\u001b[38;5;124mmust not have more than one non-singleton dimension and \u001b[39m\u001b[38;5;124m\"\u001b[39m\n\u001b[1;32m    319\u001b[0m             \u001b[38;5;124m\"\u001b[39m\u001b[38;5;124mthe number of rows in A_ub must equal the number of values \u001b[39m\u001b[38;5;124m\"\u001b[39m\n\u001b[1;32m    320\u001b[0m             \u001b[38;5;124m\"\u001b[39m\u001b[38;5;124min b_ub\u001b[39m\u001b[38;5;124m\"\u001b[39m)\n\u001b[1;32m    321\u001b[0m     \u001b[38;5;28;01mif\u001b[39;00m \u001b[38;5;129;01mnot\u001b[39;00m(np\u001b[38;5;241m.\u001b[39misfinite(b_ub)\u001b[38;5;241m.\u001b[39mall()):\n\u001b[1;32m    322\u001b[0m         \u001b[38;5;28;01mraise\u001b[39;00m \u001b[38;5;167;01mValueError\u001b[39;00m(\n\u001b[1;32m    323\u001b[0m             \u001b[38;5;124m\"\u001b[39m\u001b[38;5;124mInvalid input for linprog: b_ub must not contain values \u001b[39m\u001b[38;5;124m\"\u001b[39m\n\u001b[1;32m    324\u001b[0m             \u001b[38;5;124m\"\u001b[39m\u001b[38;5;124minf, nan, or None\u001b[39m\u001b[38;5;124m\"\u001b[39m)\n",
      "\u001b[0;31mValueError\u001b[0m: Invalid input for linprog: b_ub must be a 1-D array; b_ub must not have more than one non-singleton dimension and the number of rows in A_ub must equal the number of values in b_ub"
     ]
    }
   ],
   "source": [
    "Prices = price_nutrition[np.append(group.index,'Price')]['Price'].to_list()\n",
    "Prices = [float(s) for s in Prices] \n",
    "result = solve_subsistence_problem(price_nutrition,group.index, Prices)"
   ]
  },
  {
   "cell_type": "markdown",
   "id": "bff1d317",
   "metadata": {},
   "source": [
    "Note: We are having a bit of trouble debugging the lp function so we could definitely use your suggestions on how to fix this! We're going to debug this in class on Monday with Professor Ligon so we can find our minimum cost diet. "
   ]
  },
  {
   "cell_type": "markdown",
   "id": "6e785e50",
   "metadata": {},
   "source": [
    "<b> [B] What is the total cost for the population of interest? </b>"
   ]
  },
  {
   "cell_type": "markdown",
   "id": "2fa87fe7",
   "metadata": {},
   "source": [
    "Our total population is the total population of undergraduate students at UC Berkeley. According to US News, UC Berkeley has about a total undergraduate population of 31,814 students and 13,243 graduate students. The male:female ratio for both types of students 17,226:14,321 and 6,321:6,762 respectively. Most of the students in both degrees are between the ages of 19-30, which all fall into the age range bucket of 19-30 in our data set. We will update this with the total cost when we finish calculating the min cost diet. \n",
    "\n",
    "Source: https://opa.berkeley.edu/campus-data/uc-berkeley-quick-facts"
   ]
  },
  {
   "cell_type": "code",
   "execution_count": null,
   "id": "92092f22",
   "metadata": {},
   "outputs": [],
   "source": []
  }
 ],
 "metadata": {
  "kernelspec": {
   "display_name": "Python 3 (ipykernel)",
   "language": "python",
   "name": "python3"
  },
  "language_info": {
   "codemirror_mode": {
    "name": "ipython",
    "version": 3
   },
   "file_extension": ".py",
   "mimetype": "text/x-python",
   "name": "python",
   "nbconvert_exporter": "python",
   "pygments_lexer": "ipython3",
   "version": "3.9.10"
  }
 },
 "nbformat": 4,
 "nbformat_minor": 5
}
